{
 "cells": [
  {
   "cell_type": "code",
   "execution_count": 1,
   "metadata": {},
   "outputs": [
    {
     "name": "stderr",
     "output_type": "stream",
     "text": [
      "2025-02-21 10:41:59.125503: I tensorflow/core/platform/cpu_feature_guard.cc:210] This TensorFlow binary is optimized to use available CPU instructions in performance-critical operations.\n",
      "To enable the following instructions: AVX2 FMA, in other operations, rebuild TensorFlow with the appropriate compiler flags.\n"
     ]
    }
   ],
   "source": [
    "# import all modules\n",
    "\n",
    "import numpy as np\n",
    "import cv2\n",
    "import matplotlib.pyplot as plt\n",
    "from sklearn.preprocessing import LabelEncoder, OneHotEncoder\n",
    "import tensorflow as tf\n",
    "from tensorflow.keras.utils import to_categorical\n",
    "from tensorflow.keras.models import Sequential\n",
    "from tensorflow.keras.layers import Conv2D, MaxPooling2D, Flatten, Dense, Dropout\n",
    "from tensorflow.keras.callbacks import ReduceLROnPlateau, EarlyStopping\n",
    "from tensorflow.keras.regularizers import L2\n",
    "from sklearn.metrics import classification_report, accuracy_score"
   ]
  },
  {
   "cell_type": "code",
   "execution_count": 2,
   "metadata": {},
   "outputs": [],
   "source": [
    "class FootprintProcessor:\n",
    "    \"\"\" This Class handles footprint image processing \"\"\"\n",
    "\n",
    "    def __init__(self, grayscale=False, normalize=False, canny=False, gabor=False, ksize=5, sigma=0.1, theta=np.pi/4, lambd=10, gamma=0.5, psi=0, ktype=cv2.CV_32F, plotSamples=False):\n",
    "        \"\"\" Initialize the FootprintProcessor\n",
    "\n",
    "        Param:\n",
    "            grayscale (bool, optional): Whether to convert the image to grayscale. Defaults to False.\n",
    "            canny (bool, optional): Whether to apply Canny edge detection. Defaults to False.\n",
    "            gabor (bool, optional): Whether to apply Gabor filter. Defaults to False.\n",
    "            ksize (int, optional): Kernel size for Gabor filter. Defaults to 5.\n",
    "            sigma (float, optional): Sigma value for Gabor filter. Defaults to 0.1.\n",
    "            theta (float, optional): Theta value for Gabor filter. Defaults to np.pi/4.\n",
    "            lambd (int, optional): Lambda value for Gabor filter. Defaults to 10.\n",
    "            gamma (float, optional): Gamma value for Gabor filter. Defaults to 0.5.\n",
    "            psi (float, optional): Psi value for Gabor filter. Defaults to 0.\n",
    "            ktype (int, optional): Type of kernel for Gabor filter. Defaults to cv2.CV_32F.\n",
    "        \"\"\"\n",
    "\n",
    "        self.grayscale = grayscale\n",
    "        self.normalize = normalize\n",
    "        self.canny = canny\n",
    "        self.gabor = gabor\n",
    "        self.ksize = ksize\n",
    "        self.sigma = sigma\n",
    "        self.theta = theta\n",
    "        self.lambd = lambd\n",
    "        self.gamma = gamma\n",
    "        self.psi = psi\n",
    "        self.ktype = ktype\n",
    "        self.plotSamples = plotSamples\n",
    "\n",
    "    def apply_grayscale(self, image):\n",
    "        \"\"\" Convert the image to grayscale\n",
    "\n",
    "        Param:\n",
    "            image (numpy.ndarray): The input image.\n",
    "\n",
    "        Returns:\n",
    "            numpy.ndarray: The grayscale image.\n",
    "        \"\"\"\n",
    "        return cv2.cvtColor(image, cv2.COLOR_BGR2GRAY)\n",
    "\n",
    "    def apply_normalize(self, image):\n",
    "        \"\"\" Normalize the image by dividing by 255.0\n",
    "\n",
    "        Param:\n",
    "            image (numpy.ndarray): The input image.\n",
    "\n",
    "        Returns:\n",
    "            numpy.ndarray: The normalized image.\n",
    "        \"\"\"\n",
    "        return image / 255.0\n",
    "\n",
    "    def apply_canny(self, image):\n",
    "        \"\"\" Apply Canny edge detection\n",
    "\n",
    "        Param:\n",
    "            image (numpy.ndarray): The input image.\n",
    "\n",
    "        Returns:\n",
    "            numpy.ndarray: The Canny edge image.\n",
    "        \"\"\"\n",
    "        image = image.astype(np.uint8)\n",
    "        return cv2.Canny(image, 100, 200)\n",
    "\n",
    "    def apply_gabor(self, image):\n",
    "        \"\"\" Apply Gabor filter\n",
    "\n",
    "        Param:\n",
    "            image (numpy.ndarray): The input image.\n",
    "\n",
    "        Returns:\n",
    "            numpy.ndarray: The Gabor filtered image.\n",
    "        \"\"\"\n",
    "        kernel = cv2.getGaborKernel((self.ksize, self.ksize), self.sigma, self.theta, self.lambd, self.gamma, self.psi, self.ktype)\n",
    "        return cv2.filter2D(image, cv2.CV_8U, kernel)\n",
    "\n",
    "    def preprocess(self, image):\n",
    "        \"\"\" Preprocess the image\n",
    "\n",
    "        Param:\n",
    "            image (numpy.ndarray): The input image.\n",
    "\n",
    "        Returns:\n",
    "            numpy.ndarray: The preprocessed image.\n",
    "        \"\"\"\n",
    "        if self.grayscale:\n",
    "            image = self.apply_grayscale(image)\n",
    "        if self.normalize:\n",
    "            image = self.apply_normalize(image)\n",
    "        if self.canny:\n",
    "            image = self.apply_canny(image)\n",
    "        if self.gabor:\n",
    "            image = self.apply_gabor(image)\n",
    "        return image\n",
    "\n",
    "    def process_dataset(self, dataset_path):\n",
    "        \"\"\" Process the dataset\n",
    "\n",
    "        Param:\n",
    "            dataset_path (str): The path to the dataset.\n",
    "\n",
    "        Returns:\n",
    "            tuple: A tuple containing the processed images and labels.\n",
    "        \"\"\"\n",
    "\n",
    "        try:\n",
    "            data = np.load(dataset_path)\n",
    "        except FileNotFoundError:\n",
    "            print(f\"Dataset not found at {dataset_path}\")\n",
    "            return None\n",
    "        except Exception as e:\n",
    "            print(f\"Error loading dataset: {e}\")\n",
    "            return None\n",
    "\n",
    "        if 'X' not in data or 'Y' not in data:\n",
    "            print(\"Dataset does not contain 'X' or 'Y' keys\")\n",
    "            return None\n",
    "\n",
    "        images, self.labels = data['X'], data['Y']\n",
    "\n",
    "        if len(images) != len(self.labels):\n",
    "            print(\"Number of images and labels do not match\")\n",
    "            return None\n",
    "\n",
    "        self.processed_images = np.array([self.preprocess(image) for image in images])\n",
    "\n",
    "        if self.plotSamples:\n",
    "            self.plot_samples()\n",
    "\n",
    "        return self.processed_images, self.labels\n",
    "\n",
    "    def plot_samples(self):\n",
    "        \"\"\" Plot 10 random samples from the dataset \"\"\"\n",
    "        fig, ax = plt.subplots(2, 5, figsize=(15, 10))\n",
    "        for i in range(10):\n",
    "            idx = np.random.randint(0, self.processed_images.shape[0])\n",
    "            ax[i//5, i%5].imshow(self.processed_images[idx], cmap='gray')\n",
    "            ax[i//5, i%5].set_title(self.labels[idx])\n",
    "        plt.show()"
   ]
  },
  {
   "cell_type": "code",
   "execution_count": 6,
   "metadata": {},
   "outputs": [],
   "source": [
    "# Load and Run data via the preprocessor\n",
    "\n",
    "footprintPreprocessor = FootprintProcessor(grayscale=False, normalize=True, canny=False, gabor=False, plotSamples=False)\n",
    "X, Y = footprintPreprocessor.process_dataset('class/train_data.npz')\n",
    "\n",
    "label_encoder = LabelEncoder()\n",
    "y = label_encoder.fit_transform(Y)\n",
    "y = to_categorical(y)\n"
   ]
  },
  {
   "cell_type": "code",
   "execution_count": 12,
   "metadata": {},
   "outputs": [],
   "source": [
    "# Load and Run data via the preprocessor\n",
    "\n",
    "footprintPreprocessor = FootprintProcessor(grayscale=False, normalize=True, canny=False, gabor=False, plotSamples=False)\n",
    "X, Y = footprintPreprocessor.process_dataset('new/train_data.npz')\n",
    "\n",
    "label_encoder = LabelEncoder()\n",
    "y = label_encoder.fit_transform(Y)\n",
    "y = to_categorical(y)\n"
   ]
  },
  {
   "cell_type": "code",
   "execution_count": null,
   "metadata": {},
   "outputs": [],
   "source": [
    "from sklearn.model_selection import train_test_split\n",
    "\n",
    "X_train, X_test, y_train, y_test = train_test_split(X, y, test_size=0.2, shuffle=True, random_state=42)"
   ]
  },
  {
   "cell_type": "code",
   "execution_count": 15,
   "metadata": {},
   "outputs": [
    {
     "name": "stdout",
     "output_type": "stream",
     "text": [
      "Epoch 1/20\n",
      "\u001b[1m25/25\u001b[0m \u001b[32m━━━━━━━━━━━━━━━━━━━━\u001b[0m\u001b[37m\u001b[0m \u001b[1m88s\u001b[0m 3s/step - accuracy: 0.3095 - loss: 4.1798 - val_accuracy: 0.5431 - val_loss: 1.3458 - learning_rate: 0.0010\n",
      "Epoch 2/20\n",
      "\u001b[1m25/25\u001b[0m \u001b[32m━━━━━━━━━━━━━━━━━━━━\u001b[0m\u001b[37m\u001b[0m \u001b[1m78s\u001b[0m 3s/step - accuracy: 0.6087 - loss: 1.3187 - val_accuracy: 0.6497 - val_loss: 1.1345 - learning_rate: 0.0010\n",
      "Epoch 3/20\n",
      "\u001b[1m25/25\u001b[0m \u001b[32m━━━━━━━━━━━━━━━━━━━━\u001b[0m\u001b[37m\u001b[0m \u001b[1m80s\u001b[0m 3s/step - accuracy: 0.7684 - loss: 0.7521 - val_accuracy: 0.7310 - val_loss: 0.7869 - learning_rate: 0.0010\n",
      "Epoch 4/20\n",
      "\u001b[1m25/25\u001b[0m \u001b[32m━━━━━━━━━━━━━━━━━━━━\u001b[0m\u001b[37m\u001b[0m \u001b[1m82s\u001b[0m 3s/step - accuracy: 0.8583 - loss: 0.4264 - val_accuracy: 0.7462 - val_loss: 0.9306 - learning_rate: 0.0010\n",
      "Epoch 5/20\n",
      "\u001b[1m25/25\u001b[0m \u001b[32m━━━━━━━━━━━━━━━━━━━━\u001b[0m\u001b[37m\u001b[0m \u001b[1m85s\u001b[0m 3s/step - accuracy: 0.8656 - loss: 0.4143 - val_accuracy: 0.7411 - val_loss: 0.8066 - learning_rate: 0.0010\n",
      "Epoch 6/20\n",
      "\u001b[1m25/25\u001b[0m \u001b[32m━━━━━━━━━━━━━━━━━━━━\u001b[0m\u001b[37m\u001b[0m \u001b[1m84s\u001b[0m 3s/step - accuracy: 0.8930 - loss: 0.2819 - val_accuracy: 0.7868 - val_loss: 0.5925 - learning_rate: 0.0010\n",
      "Epoch 7/20\n",
      "\u001b[1m25/25\u001b[0m \u001b[32m━━━━━━━━━━━━━━━━━━━━\u001b[0m\u001b[37m\u001b[0m \u001b[1m85s\u001b[0m 3s/step - accuracy: 0.9293 - loss: 0.2446 - val_accuracy: 0.8122 - val_loss: 0.5257 - learning_rate: 0.0010\n",
      "Epoch 8/20\n",
      "\u001b[1m25/25\u001b[0m \u001b[32m━━━━━━━━━━━━━━━━━━━━\u001b[0m\u001b[37m\u001b[0m \u001b[1m83s\u001b[0m 3s/step - accuracy: 0.9259 - loss: 0.1836 - val_accuracy: 0.7868 - val_loss: 0.7035 - learning_rate: 0.0010\n",
      "Epoch 9/20\n",
      "\u001b[1m25/25\u001b[0m \u001b[32m━━━━━━━━━━━━━━━━━━━━\u001b[0m\u001b[37m\u001b[0m \u001b[1m86s\u001b[0m 3s/step - accuracy: 0.9662 - loss: 0.1273 - val_accuracy: 0.7716 - val_loss: 0.7371 - learning_rate: 0.0010\n",
      "Epoch 10/20\n",
      "\u001b[1m25/25\u001b[0m \u001b[32m━━━━━━━━━━━━━━━━━━━━\u001b[0m\u001b[37m\u001b[0m \u001b[1m0s\u001b[0m 3s/step - accuracy: 0.9615 - loss: 0.1274\n",
      "Epoch 10: ReduceLROnPlateau reducing learning rate to 0.0005000000237487257.\n",
      "\u001b[1m25/25\u001b[0m \u001b[32m━━━━━━━━━━━━━━━━━━━━\u001b[0m\u001b[37m\u001b[0m \u001b[1m89s\u001b[0m 4s/step - accuracy: 0.9614 - loss: 0.1277 - val_accuracy: 0.7817 - val_loss: 0.8169 - learning_rate: 0.0010\n",
      "Epoch 11/20\n",
      "\u001b[1m25/25\u001b[0m \u001b[32m━━━━━━━━━━━━━━━━━━━━\u001b[0m\u001b[37m\u001b[0m \u001b[1m107s\u001b[0m 4s/step - accuracy: 0.9802 - loss: 0.0664 - val_accuracy: 0.7970 - val_loss: 0.7173 - learning_rate: 5.0000e-04\n",
      "Epoch 12/20\n",
      "\u001b[1m25/25\u001b[0m \u001b[32m━━━━━━━━━━━━━━━━━━━━\u001b[0m\u001b[37m\u001b[0m \u001b[1m88s\u001b[0m 4s/step - accuracy: 0.9858 - loss: 0.0402 - val_accuracy: 0.7868 - val_loss: 0.7332 - learning_rate: 5.0000e-04\n",
      "Epoch 12: early stopping\n",
      "Restoring model weights from the end of the best epoch: 7.\n",
      "\u001b[1m8/8\u001b[0m \u001b[32m━━━━━━━━━━━━━━━━━━━━\u001b[0m\u001b[37m\u001b[0m \u001b[1m19s\u001b[0m 2s/step - accuracy: 0.7971 - loss: 0.5760\n",
      "Test Accuracy: 0.7846\n"
     ]
    },
    {
     "data": {
      "text/plain": [
       "Text(0.5, 1.0, 'Training Performance')"
      ]
     },
     "execution_count": 15,
     "metadata": {},
     "output_type": "execute_result"
    },
    {
     "data": {
      "image/png": "[encoded data removed]",
      "text/plain": [
       "<Figure size 640x480 with 1 Axes>"
      ]
     },
     "metadata": {},
     "output_type": "display_data"
    }
   ],
   "source": [
    "# use Xception pretrained model to build model\n",
    "\n",
    "from tensorflow.keras.applications import Xception\n",
    "\n",
    "base_model = Xception(weights='imagenet', include_top=False, input_shape=(224, 224, 3))\n",
    "\n",
    "for layer in base_model.layers:\n",
    "    layer.trainable = False\n",
    "\n",
    "model = Sequential([\n",
    "    base_model,\n",
    "    Flatten(),\n",
    "    Dense(256, activation='relu'),\n",
    "    Dropout(0.2),\n",
    "    \n",
    "    Dense(128, activation='relu'),\n",
    "    Dropout(0.2),\n",
    "    \n",
    "    Dense(6, activation='softmax')\n",
    "])\n",
    "\n",
    "model.compile(optimizer=\"adam\", loss=\"categorical_crossentropy\", metrics=[\"accuracy\"])\n",
    "\n",
    "# Train model and plot \n",
    "\n",
    "callbacks = [\n",
    "    ReduceLROnPlateau(monitor=\"val_loss\", patience=3, factor=0.5, verbose=1),\n",
    "    EarlyStopping(monitor=\"val_loss\", patience=5, restore_best_weights=True, verbose=1)\n",
    "]\n",
    "\n",
    "history = model.fit(\n",
    "    X_train, y_train, batch_size=32,\n",
    "    validation_split=0.2,\n",
    "    epochs=20,\n",
    "    callbacks=callbacks\n",
    ")\n",
    "\n",
    "test_loss, test_acc = model.evaluate(X_test, y_test)\n",
    "print(f\"Test Accuracy: {test_acc:.4f}\")\n",
    "\n",
    "plt.plot(history.history[\"accuracy\"], label=\"Train Accuracy\")\n",
    "plt.plot(history.history[\"val_accuracy\"], label=\"Validation Accuracy\")\n",
    "plt.legend()\n",
    "plt.xlabel(\"Epochs\")\n",
    "plt.ylabel(\"Accuracy\")\n",
    "plt.title(\"Training Performance\")"
   ]
  },
  {
   "cell_type": "code",
   "execution_count": 16,
   "metadata": {},
   "outputs": [
    {
     "name": "stderr",
     "output_type": "stream",
     "text": [
      "WARNING:absl:You are saving your model as an HDF5 file via `model.save()` or `keras.saving.save_model(model)`. This file format is considered legacy. We recommend using instead the native Keras format, e.g. `model.save('my_model.keras')` or `keras.saving.save_model(model, 'my_model.keras')`. \n"
     ]
    }
   ],
   "source": [
    "model.save('model/footprintclassifier_v2.h5')\n",
    "model.save('model/footprintclassifier_v2.keras')\n"
   ]
  },
  {
   "cell_type": "markdown",
   "metadata": {},
   "source": [
    "## Shuffle Data and Build Model"
   ]
  },
  {
   "cell_type": "code",
   "execution_count": null,
   "metadata": {},
   "outputs": [],
   "source": [
    "footprintPreprocessor = FootprintProcessor(grayscale=False, normalize=True, canny=False, gabor=False, plotSamples=False)\n",
    "X, Y = footprintPreprocessor.process_dataset('new/train_data.npz')\n",
    "\n",
    "label_encoder = LabelEncoder()\n",
    "y = label_encoder.fit_transform(Y)\n",
    "y = to_categorical(y)\n"
   ]
  },
  {
   "cell_type": "code",
   "execution_count": 21,
   "metadata": {},
   "outputs": [],
   "source": [
    "from sklearn.model_selection import train_test_split\n",
    "\n",
    "X_train, X_test, y_train, y_test = train_test_split(X, y, test_size=0.2, shuffle=True, random_state=42)"
   ]
  },
  {
   "cell_type": "code",
   "execution_count": null,
   "metadata": {},
   "outputs": [
    {
     "name": "stdout",
     "output_type": "stream",
     "text": [
      "Epoch 1/20\n",
      "\u001b[1m25/25\u001b[0m \u001b[32m━━━━━━━━━━━━━━━━━━━━\u001b[0m\u001b[37m\u001b[0m \u001b[1m124s\u001b[0m 5s/step - accuracy: 0.2868 - loss: 5.9631 - val_accuracy: 0.5381 - val_loss: 1.2840 - learning_rate: 0.0010\n",
      "Epoch 2/20\n",
      "\u001b[1m25/25\u001b[0m \u001b[32m━━━━━━━━━━━━━━━━━━━━\u001b[0m\u001b[37m\u001b[0m \u001b[1m155s\u001b[0m 6s/step - accuracy: 0.5682 - loss: 1.3120 - val_accuracy: 0.6193 - val_loss: 1.0173 - learning_rate: 0.0010\n",
      "Epoch 3/20\n",
      "\u001b[1m25/25\u001b[0m \u001b[32m━━━━━━━━━━━━━━━━━━━━\u001b[0m\u001b[37m\u001b[0m \u001b[1m250s\u001b[0m 10s/step - accuracy: 0.6903 - loss: 0.8891 - val_accuracy: 0.6853 - val_loss: 0.8848 - learning_rate: 0.0010\n",
      "Epoch 4/20\n",
      "\u001b[1m25/25\u001b[0m \u001b[32m━━━━━━━━━━━━━━━━━━━━\u001b[0m\u001b[37m\u001b[0m \u001b[1m173s\u001b[0m 7s/step - accuracy: 0.8081 - loss: 0.5445 - val_accuracy: 0.7716 - val_loss: 0.7600 - learning_rate: 0.0010\n",
      "Epoch 5/20\n",
      "\u001b[1m25/25\u001b[0m \u001b[32m━━━━━━━━━━━━━━━━━━━━\u001b[0m\u001b[37m\u001b[0m \u001b[1m126s\u001b[0m 5s/step - accuracy: 0.8393 - loss: 0.4477 - val_accuracy: 0.7513 - val_loss: 0.7838 - learning_rate: 0.0010\n",
      "Epoch 6/20\n",
      "\u001b[1m25/25\u001b[0m \u001b[32m━━━━━━━━━━━━━━━━━━━━\u001b[0m\u001b[37m\u001b[0m \u001b[1m131s\u001b[0m 5s/step - accuracy: 0.8790 - loss: 0.3627 - val_accuracy: 0.7259 - val_loss: 0.9384 - learning_rate: 0.0010\n",
      "Epoch 7/20\n",
      "\u001b[1m25/25\u001b[0m \u001b[32m━━━━━━━━━━━━━━━━━━━━\u001b[0m\u001b[37m\u001b[0m \u001b[1m0s\u001b[0m 4s/step - accuracy: 0.8952 - loss: 0.2902\n",
      "Epoch 7: ReduceLROnPlateau reducing learning rate to 0.0005000000237487257.\n",
      "\u001b[1m25/25\u001b[0m \u001b[32m━━━━━━━━━━━━━━━━━━━━\u001b[0m\u001b[37m\u001b[0m \u001b[1m122s\u001b[0m 5s/step - accuracy: 0.8956 - loss: 0.2894 - val_accuracy: 0.7208 - val_loss: 1.0863 - learning_rate: 0.0010\n",
      "Epoch 8/20\n",
      "\u001b[1m25/25\u001b[0m \u001b[32m━━━━━━━━━━━━━━━━━━━━\u001b[0m\u001b[37m\u001b[0m \u001b[1m117s\u001b[0m 5s/step - accuracy: 0.9076 - loss: 0.2579 - val_accuracy: 0.7614 - val_loss: 0.8323 - learning_rate: 5.0000e-04\n",
      "Epoch 9/20\n",
      "\u001b[1m25/25\u001b[0m \u001b[32m━━━━━━━━━━━━━━━━━━━━\u001b[0m\u001b[37m\u001b[0m \u001b[1m118s\u001b[0m 5s/step - accuracy: 0.9455 - loss: 0.1846 - val_accuracy: 0.7817 - val_loss: 0.7307 - learning_rate: 5.0000e-04\n",
      "Epoch 10/20\n",
      "\u001b[1m25/25\u001b[0m \u001b[32m━━━━━━━━━━━━━━━━━━━━\u001b[0m\u001b[37m\u001b[0m \u001b[1m123s\u001b[0m 5s/step - accuracy: 0.9676 - loss: 0.0818 - val_accuracy: 0.7970 - val_loss: 0.7740 - learning_rate: 5.0000e-04\n",
      "Epoch 11/20\n",
      "\u001b[1m25/25\u001b[0m \u001b[32m━━━━━━━━━━━━━━━━━━━━\u001b[0m\u001b[37m\u001b[0m \u001b[1m138s\u001b[0m 6s/step - accuracy: 0.9757 - loss: 0.1069 - val_accuracy: 0.7817 - val_loss: 0.8335 - learning_rate: 5.0000e-04\n",
      "Epoch 12/20\n",
      "\u001b[1m25/25\u001b[0m \u001b[32m━━━━━━━━━━━━━━━━━━━━\u001b[0m\u001b[37m\u001b[0m \u001b[1m0s\u001b[0m 4s/step - accuracy: 0.9699 - loss: 0.0816\n",
      "Epoch 12: ReduceLROnPlateau reducing learning rate to 0.0002500000118743628.\n",
      "\u001b[1m25/25\u001b[0m \u001b[32m━━━━━━━━━━━━━━━━━━━━\u001b[0m\u001b[37m\u001b[0m \u001b[1m120s\u001b[0m 5s/step - accuracy: 0.9697 - loss: 0.0821 - val_accuracy: 0.7970 - val_loss: 0.8353 - learning_rate: 5.0000e-04\n",
      "Epoch 13/20\n",
      "\u001b[1m25/25\u001b[0m \u001b[32m━━━━━━━━━━━━━━━━━━━━\u001b[0m\u001b[37m\u001b[0m \u001b[1m118s\u001b[0m 5s/step - accuracy: 0.9806 - loss: 0.0607 - val_accuracy: 0.8071 - val_loss: 0.7813 - learning_rate: 2.5000e-04\n",
      "Epoch 14/20\n",
      "\u001b[1m25/25\u001b[0m \u001b[32m━━━━━━━━━━━━━━━━━━━━\u001b[0m\u001b[37m\u001b[0m \u001b[1m117s\u001b[0m 5s/step - accuracy: 0.9753 - loss: 0.0721 - val_accuracy: 0.8071 - val_loss: 0.8164 - learning_rate: 2.5000e-04\n",
      "Epoch 14: early stopping\n",
      "Restoring model weights from the end of the best epoch: 9.\n",
      "\u001b[1m8/8\u001b[0m \u001b[32m━━━━━━━━━━━━━━━━━━━━\u001b[0m\u001b[37m\u001b[0m \u001b[1m25s\u001b[0m 3s/step - accuracy: 0.8295 - loss: 0.6586\n",
      "Test Accuracy: 0.8293\n"
     ]
    },
    {
     "data": {
      "text/plain": [
       "Text(0.5, 1.0, 'Training Performance')"
      ]
     },
     "execution_count": 23,
     "metadata": {},
     "output_type": "execute_result"
    },
    {
     "data": {
      "image/png": "[encoded data removed]",
      "text/plain": [
       "<Figure size 640x480 with 1 Axes>"
      ]
     },
     "metadata": {},
     "output_type": "display_data"
    }
   ],
   "source": [
    "# use Xception pretrained model to build model\n",
    "\n",
    "from tensorflow.keras.applications import Xception\n",
    "\n",
    "base_model = Xception(weights='imagenet', include_top=False, input_shape=(224, 224, 3))\n",
    "\n",
    "for layer in base_model.layers:\n",
    "    layer.trainable = False\n",
    "\n",
    "model = Sequential([\n",
    "    base_model,\n",
    "    Flatten(),\n",
    "    Dense(256, activation='relu'),\n",
    "    Dropout(0.2),\n",
    "    \n",
    "    Dense(128, activation='relu'),\n",
    "    Dropout(0.2),\n",
    "    \n",
    "    Dense(6, activation='softmax')\n",
    "])\n",
    "\n",
    "model.compile(optimizer=\"adam\", loss=\"categorical_crossentropy\", metrics=[\"accuracy\"])\n",
    "\n",
    "callbacks = [\n",
    "    ReduceLROnPlateau(monitor=\"val_loss\", patience=3, factor=0.5, verbose=1),\n",
    "    EarlyStopping(monitor=\"val_loss\", patience=5, restore_best_weights=True, verbose=1)\n",
    "]\n",
    "\n",
    "history = model.fit(\n",
    "    X_train, y_train, batch_size=32,\n",
    "    validation_split=0.2,\n",
    "    epochs=20,\n",
    "    callbacks=callbacks\n",
    ")\n",
    "\n",
    "test_loss, test_acc = model.evaluate(X_test, y_test)\n",
    "print(f\"Test Accuracy: {test_acc:.4f}\")\n",
    "\n",
    "plt.plot(history.history[\"accuracy\"], label=\"Train Accuracy\")\n",
    "plt.plot(history.history[\"val_accuracy\"], label=\"Validation Accuracy\")\n",
    "plt.legend()\n",
    "plt.xlabel(\"Epochs\")\n",
    "plt.ylabel(\"Accuracy\")\n",
    "plt.title(\"Training Performance\")"
   ]
  },
  {
   "cell_type": "markdown",
   "metadata": {},
   "source": [
    "### Classification Result"
   ]
  },
  {
   "cell_type": "code",
   "execution_count": 24,
   "metadata": {},
   "outputs": [
    {
     "name": "stdout",
     "output_type": "stream",
     "text": [
      "\u001b[1m8/8\u001b[0m \u001b[32m━━━━━━━━━━━━━━━━━━━━\u001b[0m\u001b[37m\u001b[0m \u001b[1m40s\u001b[0m 5s/step\n",
      "              precision    recall  f1-score   support\n",
      "\n",
      "           0       0.96      0.96      0.96        23\n",
      "           1       0.81      0.74      0.77        34\n",
      "           2       0.70      0.70      0.70        37\n",
      "           3       0.78      0.84      0.81        55\n",
      "           4       0.86      0.91      0.88        46\n",
      "           5       0.91      0.84      0.88        51\n",
      "\n",
      "    accuracy                           0.83       246\n",
      "   macro avg       0.84      0.83      0.83       246\n",
      "weighted avg       0.83      0.83      0.83       246\n",
      "\n",
      "0.8292682926829268\n"
     ]
    }
   ],
   "source": [
    "y_pred = model.predict(X_test)\n",
    "y_pred = np.argmax(y_pred, axis=1)\n",
    "\n",
    "y_test = np.argmax(y_test, axis=1)\n",
    "\n",
    "print(classification_report(y_test, y_pred))\n",
    "print(accuracy_score(y_test, y_pred))"
   ]
  },
  {
   "cell_type": "markdown",
   "metadata": {},
   "source": [
    "### Confusion Matrix"
   ]
  },
  {
   "cell_type": "code",
   "execution_count": 25,
   "metadata": {},
   "outputs": [
    {
     "data": {
      "text/plain": [
       "Text(50.722222222222214, 0.5, 'True')"
      ]
     },
     "execution_count": 25,
     "metadata": {},
     "output_type": "execute_result"
    },
    {
     "data": {
      "image/png": "[encoded data removed]",
      "text/plain": [
       "<Figure size 640x480 with 2 Axes>"
      ]
     },
     "metadata": {},
     "output_type": "display_data"
    }
   ],
   "source": [
    "# plot confusion matrix\n",
    "\n",
    "from sklearn.metrics import confusion_matrix\n",
    "import seaborn as sns\n",
    "\n",
    "cm = confusion_matrix(y_test, y_pred)\n",
    "sns.heatmap(cm, annot=True, fmt='d', cmap='Blues')\n",
    "plt.xlabel('Predicted')\n",
    "plt.ylabel('True')"
   ]
  },
  {
   "cell_type": "markdown",
   "metadata": {},
   "source": [
    "### Save Model as .h5 and .keraas"
   ]
  },
  {
   "cell_type": "code",
   "execution_count": 26,
   "metadata": {},
   "outputs": [
    {
     "name": "stderr",
     "output_type": "stream",
     "text": [
      "WARNING:absl:You are saving your model as an HDF5 file via `model.save()` or `keras.saving.save_model(model)`. This file format is considered legacy. We recommend using instead the native Keras format, e.g. `model.save('my_model.keras')` or `keras.saving.save_model(model, 'my_model.keras')`. \n"
     ]
    }
   ],
   "source": [
    "model.save('model/footprintclassifier_v2_shuffle.h5')\n",
    "model.save('model/footprintclassifier_v2_shuffle.keras')\n"
   ]
  }
 ],
 "metadata": {
  "kernelspec": {
   "display_name": "atidvenv",
   "language": "python",
   "name": "python3"
  },
  "language_info": {
   "codemirror_mode": {
    "name": "ipython",
    "version": 3
   },
   "file_extension": ".py",
   "mimetype": "text/x-python",
   "name": "python",
   "nbconvert_exporter": "python",
   "pygments_lexer": "ipython3",
   "version": "3.10.13"
  }
 },
 "nbformat": 4,
 "nbformat_minor": 2
}
